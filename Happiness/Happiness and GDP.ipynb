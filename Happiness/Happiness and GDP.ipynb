{
 "cells": [
  {
   "cell_type": "markdown",
   "metadata": {},
   "source": [
    "# Happiness and GDP for economics\n",
    "\n",
    "––––––\n",
    "\n",
    "This is for a python workshop with economics students to assess whether it is useful to consider happiness and GDP in public policy. \n",
    "\n",
    "__The brief__\n",
    "\n",
    "You are an economist at HM Treasury. Your team have recently heard the New Zealand government have extended their dashboard on wellbeing indicators. You are asked to look at what evidence there is to consider happiness and other wellbeing indicators when measuring the economy. What relevance, if any, does this have to the UK?"
   ]
  },
  {
   "cell_type": "markdown",
   "metadata": {},
   "source": [
    "# Motivation \n",
    "\n",
    "In 2019 the New Zealand government published their new 'Wellbeing Budget. This was an attempt to include a broad set of indicators such as mental health, child poverty and domestic violence to have a forward looking approach to the environment, the strength of communities and the performance of the economy. \n",
    "\n",
    "<img src=\"NZ budget.png\" alt=\"NZ budget.png\" width=\"400\"/>\n",
    "\n",
    "Read the full article [here.](\"https://theconversation.com/new-zealands-well-being-budget-how-it-hopes-to-improve-peoples-lives-118052\")\n",
    "\n",
    "#### The Stiglitz Commission \n",
    "The 2009 Stiglitz Commission stated that “Research has shown that it is possible to collect meaningful and reliable data on subjective as well as objective well-being. Subjective well-being encompasses different aspects (cognitive evaluations of one’s life, happiness, satisfaction, positive emotions such as joy and pride, and negative emotions such as pain and worry): each of them should be measured separately to derive a more comprehensive appreciation of people’s lives... [SWB] should be included in larger-scale surveys undertaken by official statistical offices”.\n",
    "\n",
    "#### Subjective Wellbeing \n",
    "Subjective Wellbeing is measured by simply asking people about their happiness. SWB is beginning to be used to monitor progress and to inform policy in terms of depression rates and in the provision of cognitive behavioural therapy. Policy appraisal using SWB has interested academics for decades and is increasinly concerning policymakers.\n",
    "\n",
    "\n",
    "## Related Literature \n",
    "For the purposes of this session only skim one or two of these papers to inform your project.\n",
    "\n",
    "Bellet, c. et al (2019) Does Employee Happiness Have an Impact on Productivity? Available [here.]('http://cep.lse.ac.uk/pubs/download/dp1655.pdf')\n",
    "\n",
    "Frijters, P and Layard, R (2018) Direct wellbeing measurement and policy appraisal: a discussion paper [here.]('http://cep.lse.ac.uk/textonly/_new/staff/layard/pdf/0461_DirectWellbeingMeasurement.pdf') \n",
    "\n",
    "Gallup (2019) World Happiness Report 2019). Available [here.]('https://worldhappiness.report/')\n",
    "\n",
    "Layard, R (2016) Wellbeing measurement and cost-effectiveness analysis. Available [here.]('http://cep.lse.ac.uk/textonly/_new/staff/layard/pdf/0381-06-07-16.pdf')\n",
    "\n",
    "New Zealand Treasury (2019) The Wellbeing Budget 2019. Available [here.]('https://treasury.govt.nz/sites/default/files/2019-05/b19-wellbeing-budget.pdf')\n"
   ]
  },
  {
   "cell_type": "markdown",
   "metadata": {},
   "source": [
    "# Data sources \n",
    "* Happiness report data (see files in repo) \n",
    "* Can also be downloaded here: https://www.dropbox.com/s/cwe1g35er387955/happiness_with_continent%282019%29.csv?dl=0\n",
    "\n",
    "\n",
    "To understand the data, you need to read the world happiness report section on data constrution and statistics. \n",
    "This will help you to understand how the variables were measured and constructed. "
   ]
  },
  {
   "cell_type": "markdown",
   "metadata": {},
   "source": [
    "# 1. Import packages \n",
    "You need to import the following packages: \n",
    "* pandas\n",
    "* numpy\n",
    "* matplotlib \n",
    "\n",
    "You can also optionally import\n",
    "* seaborn (for nicer charts) \n",
    "* statsmodels (for regression analysis) \n",
    "\n",
    "Tip: It might be useful to first see what they data looks like generally before manipulating it. \n",
    "\n",
    "\n",
    "# 2. Inspect the data \n",
    "In order to do your analysis you need to get to know the data you're using before doing any analysis. Can you find some interesting stats from here to feedback during their presentations?\n",
    "\n",
    "* Count the number of unique countries \n",
    "* How many years the dataset includes \n",
    "* Check for null values\n",
    "* Happinest country, in the most recent year \n",
    "* Unhappiest country, in the most recent year  \n",
    "* More unequal country \n",
    "* Most unequal country \n",
    "* Average life ladder score, globally \n",
    "* Average life ladder country, by continent \n"
   ]
  },
  {
   "cell_type": "markdown",
   "metadata": {},
   "source": [
    "# 3. Data visualisation\n",
    "\n",
    "At this point there should be a clearer exam question.\n",
    "\n",
    "1. Does there seem to be a relationship between happiness/wellbeing indicators and GDP?\n",
    "2. What does this mean for the UK and why does it matter?\n",
    "3. Have any countries increased in happiness over time? \n",
    "\n",
    "Consider creating the following charts: \n",
    "* Bar chart of 5 countries by life ladder (highest, lowest and 3 interesting)\n",
    "* Line chart for UK and NZ life ladder over time \n",
    "* scatter plot for all countries life ladder and GDP per capita. Can you change the colour for continent? \n",
    "* Scatter plot for Europe, economic freedom and life ladder \n",
    "* Scatter plot with a line of best fit.\n",
    "\n",
    "Line of best fit: y=mx+b \n",
    "\n",
    "This tutorial might be helpful: https://pythonprogramming.net/how-to-program-best-fit-line-machine-learning-tutorial/\n",
    "\n",
    "\n",
    "# Extension: Estimating imapct of happiness \n",
    "You could also consider running a regression to estimate the the impact of GDP on happiness. \n",
    "\n",
    "In order to this you will need to use the package stats models \n",
    "* Identify your depdendent variable \n",
    "* Identify the dependent variable \n",
    "\n",
    "Now that you have run this simple regression, there may be other variables that might influence happiness that you may want to control for such as economic freedom. "
   ]
  }
 ],
 "metadata": {
  "kernelspec": {
   "display_name": "Python 3",
   "language": "python",
   "name": "python3"
  },
  "language_info": {
   "codemirror_mode": {
    "name": "ipython",
    "version": 3
   },
   "file_extension": ".py",
   "mimetype": "text/x-python",
   "name": "python",
   "nbconvert_exporter": "python",
   "pygments_lexer": "ipython3",
   "version": "3.7.3"
  }
 },
 "nbformat": 4,
 "nbformat_minor": 4
}
